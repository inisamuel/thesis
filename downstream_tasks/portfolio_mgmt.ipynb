{
 "cells": [
  {
   "cell_type": "markdown",
   "source": [
    "Downstream task as described in 'Stock Embeddings: Representation Learning for Financial Time Series' and\n",
    "'Contrastive Learning of Asset Embeddings from Financial Time Series'\n",
    "\n",
    "To reduce investment risk, portfolio managers use diversification and hedging, measuring effectiveness in terms of\n",
    "volatility reduction. As a result, identifying dissimilar stocks that behave oppositely to similar ones is essential\n",
    "for traders to hedge their target stocks and limit overall risk.\n",
    "\n",
    "Typically, hedging involves negatively correlated assets and various correlation metrics. We propose an alternative:\n",
    "using generated embeddings to find maximally dissimilar stocks and inform hedging strategies. We evaluate a scenario\n",
    "where an investor holds a position in a stock (query stock) and seeks a single stock (hedge stock) to reduce risk,\n",
    "measured as volatility, as much as possible.\n",
    "\n",
    "We test a hedging approach by using two-asset long portfolio, consisting of an anchor asset, and the other asset having\n",
    "the lowest similarity in the latent space, measured using hamming distance. Embeddings will be computed using train\n",
    "horizon, and portfolio simulated on out-of-sample horizon.\n",
    "\n",
    "Benchmark: pearson correlation of returns"
   ],
   "metadata": {
    "collapsed": false
   }
  },
  {
   "cell_type": "code",
   "execution_count": 1,
   "metadata": {
    "collapsed": true
   },
   "outputs": [],
   "source": [
    "import yfinance as yf\n",
    "import pandas as pd"
   ]
  },
  {
   "cell_type": "code",
   "execution_count": 22,
   "outputs": [
    {
     "data": {
      "text/plain": "['ATVI',\n 'ADBE',\n 'ADP',\n 'ABNB',\n 'ALGN',\n 'GOOGL',\n 'GOOG',\n 'AMZN',\n 'AMD',\n 'AEP',\n 'AMGN',\n 'ADI',\n 'ANSS',\n 'AAPL',\n 'AMAT',\n 'ASML',\n 'AZN',\n 'TEAM',\n 'ADSK',\n 'BKR',\n 'BIIB',\n 'BKNG',\n 'AVGO',\n 'CDNS',\n 'CHTR',\n 'CTAS',\n 'CSCO',\n 'CTSH',\n 'CMCSA',\n 'CEG',\n 'CPRT',\n 'CSGP',\n 'COST',\n 'CRWD',\n 'CSX',\n 'DDOG',\n 'DXCM',\n 'FANG',\n 'DLTR',\n 'EBAY',\n 'EA',\n 'ENPH',\n 'EXC',\n 'FAST',\n 'FISV',\n 'FTNT',\n 'GILD',\n 'GFS',\n 'HON',\n 'IDXX',\n 'ILMN',\n 'INTC',\n 'INTU',\n 'ISRG',\n 'JD',\n 'KDP',\n 'KLAC',\n 'KHC',\n 'LRCX',\n 'LCID',\n 'LULU',\n 'MAR',\n 'MRVL',\n 'MELI',\n 'META',\n 'MCHP',\n 'MU',\n 'MSFT',\n 'MRNA',\n 'MDLZ',\n 'MNST',\n 'NFLX',\n 'NVDA',\n 'NXPI',\n 'ORLY',\n 'ODFL',\n 'PCAR',\n 'PANW',\n 'PAYX',\n 'PYPL',\n 'PDD',\n 'PEP',\n 'QCOM',\n 'REGN',\n 'RIVN',\n 'ROST',\n 'SGEN',\n 'SIRI',\n 'SBUX',\n 'SNPS',\n 'TMUS',\n 'TSLA',\n 'TXN',\n 'VRSK',\n 'VRTX',\n 'WBA',\n 'WBD',\n 'WDAY',\n 'XEL',\n 'ZM',\n 'ZS']"
     },
     "execution_count": 22,
     "metadata": {},
     "output_type": "execute_result"
    }
   ],
   "source": [
    "df = pd.read_csv(\"../datasets/stocks/nasdaq_100.csv\", encoding='unicode_escape')\n",
    "\n",
    "tickers = list(df['Ticker'])\n",
    "tickers"
   ],
   "metadata": {
    "collapsed": false
   }
  },
  {
   "cell_type": "code",
   "execution_count": 23,
   "outputs": [
    {
     "name": "stderr",
     "output_type": "stream",
     "text": [
      "[*********************100%***********************]  101 of 101 completed\n",
      "\n",
      "2 Failed downloads:\n",
      "['SGEN', 'ATVI']: YFTzMissingError('$%ticker%: possibly delisted; no timezone found')\n"
     ]
    }
   ],
   "source": [
    "ohlc = yf.download(tickers, period=\"max\")\n"
   ],
   "metadata": {
    "collapsed": false
   }
  },
  {
   "cell_type": "code",
   "execution_count": 28,
   "outputs": [
    {
     "data": {
      "text/plain": "Ticker                           AAPL        ADBE         ADI         ADP  \\\nDate                                                                        \n2024-09-12 00:00:00+00:00  222.770004  586.549988  221.529999  277.000000   \n2024-09-13 00:00:00+00:00  222.500000  536.869995  225.419998  277.510010   \n2024-09-16 00:00:00+00:00  216.320007  521.500000  223.279999  278.600006   \n2024-09-17 00:00:00+00:00  216.789993  515.030029  225.350006  279.410004   \n2024-09-18 00:00:00+00:00  220.690002  508.130005  222.639999  275.910004   \n\nTicker                           ADSK         AEP        ALGN        AMAT  \\\nDate                                                                        \n2024-09-12 00:00:00+00:00  259.470001  102.989998  228.860001  183.210007   \n2024-09-13 00:00:00+00:00  263.959991  104.169998  243.729996  188.470001   \n2024-09-16 00:00:00+00:00  267.730011  104.949997  249.559998  187.580002   \n2024-09-17 00:00:00+00:00  266.890015  104.209999  253.160004  188.589996   \n2024-09-18 00:00:00+00:00  264.209991  103.220001  253.009995  186.139999   \n\nTicker                            AMD        AMGN  ...       SIRI        SNPS  \\\nDate                                               ...                          \n2024-09-12 00:00:00+00:00  150.770004  330.059998  ...  25.520000  488.950012   \n2024-09-13 00:00:00+00:00  152.309998  332.450012  ...  24.510000  490.070007   \n2024-09-16 00:00:00+00:00  152.080002  335.260010  ...  23.639999  498.570007   \n2024-09-17 00:00:00+00:00  150.820007  332.799988  ...  23.270000  502.250000   \n2024-09-18 00:00:00+00:00  148.289993  332.920013  ...  23.270000  495.950012   \n\nTicker                           TMUS        TSLA         TXN        VRSK  \\\nDate                                                                        \n2024-09-12 00:00:00+00:00  202.410004  229.809998  195.979996  268.980011   \n2024-09-13 00:00:00+00:00  202.830002  230.289993  199.929993  268.790009   \n2024-09-16 00:00:00+00:00  205.850006  226.779999  198.470001  269.399994   \n2024-09-17 00:00:00+00:00  202.699997  227.869995  201.389999  267.019989   \n2024-09-18 00:00:00+00:00  196.679993  227.199997  200.710007  264.760010   \n\nTicker                           VRTX   WBA   WBD        XEL  \nDate                                                          \n2024-09-12 00:00:00+00:00  478.649994  8.84  7.66  63.341999  \n2024-09-13 00:00:00+00:00  485.369995  9.21  8.49  63.840000  \n2024-09-16 00:00:00+00:00  489.429993  9.02  8.56  64.559998  \n2024-09-17 00:00:00+00:00  481.260010  9.06  8.45  64.500000  \n2024-09-18 00:00:00+00:00  474.160004  9.01  8.42  64.360001  \n\n[5 rows x 78 columns]",
      "text/html": "<div>\n<style scoped>\n    .dataframe tbody tr th:only-of-type {\n        vertical-align: middle;\n    }\n\n    .dataframe tbody tr th {\n        vertical-align: top;\n    }\n\n    .dataframe thead th {\n        text-align: right;\n    }\n</style>\n<table border=\"1\" class=\"dataframe\">\n  <thead>\n    <tr style=\"text-align: right;\">\n      <th>Ticker</th>\n      <th>AAPL</th>\n      <th>ADBE</th>\n      <th>ADI</th>\n      <th>ADP</th>\n      <th>ADSK</th>\n      <th>AEP</th>\n      <th>ALGN</th>\n      <th>AMAT</th>\n      <th>AMD</th>\n      <th>AMGN</th>\n      <th>...</th>\n      <th>SIRI</th>\n      <th>SNPS</th>\n      <th>TMUS</th>\n      <th>TSLA</th>\n      <th>TXN</th>\n      <th>VRSK</th>\n      <th>VRTX</th>\n      <th>WBA</th>\n      <th>WBD</th>\n      <th>XEL</th>\n    </tr>\n    <tr>\n      <th>Date</th>\n      <th></th>\n      <th></th>\n      <th></th>\n      <th></th>\n      <th></th>\n      <th></th>\n      <th></th>\n      <th></th>\n      <th></th>\n      <th></th>\n      <th></th>\n      <th></th>\n      <th></th>\n      <th></th>\n      <th></th>\n      <th></th>\n      <th></th>\n      <th></th>\n      <th></th>\n      <th></th>\n      <th></th>\n    </tr>\n  </thead>\n  <tbody>\n    <tr>\n      <th>2024-09-12 00:00:00+00:00</th>\n      <td>222.770004</td>\n      <td>586.549988</td>\n      <td>221.529999</td>\n      <td>277.000000</td>\n      <td>259.470001</td>\n      <td>102.989998</td>\n      <td>228.860001</td>\n      <td>183.210007</td>\n      <td>150.770004</td>\n      <td>330.059998</td>\n      <td>...</td>\n      <td>25.520000</td>\n      <td>488.950012</td>\n      <td>202.410004</td>\n      <td>229.809998</td>\n      <td>195.979996</td>\n      <td>268.980011</td>\n      <td>478.649994</td>\n      <td>8.84</td>\n      <td>7.66</td>\n      <td>63.341999</td>\n    </tr>\n    <tr>\n      <th>2024-09-13 00:00:00+00:00</th>\n      <td>222.500000</td>\n      <td>536.869995</td>\n      <td>225.419998</td>\n      <td>277.510010</td>\n      <td>263.959991</td>\n      <td>104.169998</td>\n      <td>243.729996</td>\n      <td>188.470001</td>\n      <td>152.309998</td>\n      <td>332.450012</td>\n      <td>...</td>\n      <td>24.510000</td>\n      <td>490.070007</td>\n      <td>202.830002</td>\n      <td>230.289993</td>\n      <td>199.929993</td>\n      <td>268.790009</td>\n      <td>485.369995</td>\n      <td>9.21</td>\n      <td>8.49</td>\n      <td>63.840000</td>\n    </tr>\n    <tr>\n      <th>2024-09-16 00:00:00+00:00</th>\n      <td>216.320007</td>\n      <td>521.500000</td>\n      <td>223.279999</td>\n      <td>278.600006</td>\n      <td>267.730011</td>\n      <td>104.949997</td>\n      <td>249.559998</td>\n      <td>187.580002</td>\n      <td>152.080002</td>\n      <td>335.260010</td>\n      <td>...</td>\n      <td>23.639999</td>\n      <td>498.570007</td>\n      <td>205.850006</td>\n      <td>226.779999</td>\n      <td>198.470001</td>\n      <td>269.399994</td>\n      <td>489.429993</td>\n      <td>9.02</td>\n      <td>8.56</td>\n      <td>64.559998</td>\n    </tr>\n    <tr>\n      <th>2024-09-17 00:00:00+00:00</th>\n      <td>216.789993</td>\n      <td>515.030029</td>\n      <td>225.350006</td>\n      <td>279.410004</td>\n      <td>266.890015</td>\n      <td>104.209999</td>\n      <td>253.160004</td>\n      <td>188.589996</td>\n      <td>150.820007</td>\n      <td>332.799988</td>\n      <td>...</td>\n      <td>23.270000</td>\n      <td>502.250000</td>\n      <td>202.699997</td>\n      <td>227.869995</td>\n      <td>201.389999</td>\n      <td>267.019989</td>\n      <td>481.260010</td>\n      <td>9.06</td>\n      <td>8.45</td>\n      <td>64.500000</td>\n    </tr>\n    <tr>\n      <th>2024-09-18 00:00:00+00:00</th>\n      <td>220.690002</td>\n      <td>508.130005</td>\n      <td>222.639999</td>\n      <td>275.910004</td>\n      <td>264.209991</td>\n      <td>103.220001</td>\n      <td>253.009995</td>\n      <td>186.139999</td>\n      <td>148.289993</td>\n      <td>332.920013</td>\n      <td>...</td>\n      <td>23.270000</td>\n      <td>495.950012</td>\n      <td>196.679993</td>\n      <td>227.199997</td>\n      <td>200.710007</td>\n      <td>264.760010</td>\n      <td>474.160004</td>\n      <td>9.01</td>\n      <td>8.42</td>\n      <td>64.360001</td>\n    </tr>\n  </tbody>\n</table>\n<p>5 rows × 78 columns</p>\n</div>"
     },
     "execution_count": 28,
     "metadata": {},
     "output_type": "execute_result"
    }
   ],
   "source": [
    "prices = ohlc[\"Adj Close\"].loc[\"2011-01-01\":].dropna(axis=1)\n",
    "prices.tail()"
   ],
   "metadata": {
    "collapsed": false
   }
  },
  {
   "cell_type": "code",
   "execution_count": 32,
   "outputs": [
    {
     "data": {
      "text/plain": "Ticker                         AAPL      ADBE       ADI       ADP      ADSK  \\\nDate                                                                          \n2011-01-04 00:00:00+00:00  0.005219  0.007031 -0.011331 -0.003614 -0.018844   \n2011-01-05 00:00:00+00:00  0.008180  0.022533  0.002133  0.015999  0.070335   \n2011-01-06 00:00:00+00:00 -0.000808  0.001552  0.005585  0.007768  0.000485   \n2011-01-07 00:00:00+00:00  0.007161 -0.007127 -0.005818  0.002292 -0.012118   \n2011-01-10 00:00:00+00:00  0.018833  0.028714  0.002926  0.000416  0.002699   \n\nTicker                          AEP      ALGN      AMAT       AMD      AMGN  \\\nDate                                                                          \n2011-01-04 00:00:00+00:00  0.007173 -0.018621 -0.006401  0.035419  0.021602   \n2011-01-05 00:00:00+00:00 -0.015065  0.016923 -0.015033  0.015963 -0.000353   \n2011-01-06 00:00:00+00:00  0.005006 -0.012103  0.009448 -0.024691 -0.003173   \n2011-01-07 00:00:00+00:00 -0.003874  0.020929  0.005040  0.016111  0.007603   \n2011-01-10 00:00:00+00:00 -0.006667  0.010000 -0.013611  0.040770 -0.009477   \n\nTicker                     ...      SIRI      SNPS      TMUS      TSLA  \\\nDate                       ...                                           \n2011-01-04 00:00:00+00:00  ... -0.011834 -0.005558  0.065035  0.001878   \n2011-01-05 00:00:00+00:00  ... -0.011976 -0.002235  0.024425  0.005999   \n2011-01-06 00:00:00+00:00  ... -0.006061 -0.003734 -0.067321  0.039135   \n2011-01-07 00:00:00+00:00  ... -0.018293  0.002249 -0.026316  0.012912   \n2011-01-10 00:00:00+00:00  ... -0.018633  0.001870  0.017761  0.007436   \n\nTicker                          TXN      VRSK      VRTX       WBA       WBD  \\\nDate                                                                          \n2011-01-04 00:00:00+00:00 -0.001833 -0.005802 -0.013893  0.008393 -0.013806   \n2011-01-05 00:00:00+00:00  0.003979  0.001459  0.038039  0.013871 -0.021241   \n2011-01-06 00:00:00+00:00  0.013719  0.000583 -0.017372  0.002985 -0.005919   \n2011-01-07 00:00:00+00:00 -0.000902 -0.002912 -0.001105 -0.005952  0.000248   \n2011-01-10 00:00:00+00:00  0.004816  0.001460  0.003595  0.021706 -0.012401   \n\nTicker                          XEL  \nDate                                 \n2011-01-04 00:00:00+00:00  0.004244  \n2011-01-05 00:00:00+00:00 -0.005917  \n2011-01-06 00:00:00+00:00 -0.000850  \n2011-01-07 00:00:00+00:00  0.008936  \n2011-01-10 00:00:00+00:00 -0.006327  \n\n[5 rows x 78 columns]",
      "text/html": "<div>\n<style scoped>\n    .dataframe tbody tr th:only-of-type {\n        vertical-align: middle;\n    }\n\n    .dataframe tbody tr th {\n        vertical-align: top;\n    }\n\n    .dataframe thead th {\n        text-align: right;\n    }\n</style>\n<table border=\"1\" class=\"dataframe\">\n  <thead>\n    <tr style=\"text-align: right;\">\n      <th>Ticker</th>\n      <th>AAPL</th>\n      <th>ADBE</th>\n      <th>ADI</th>\n      <th>ADP</th>\n      <th>ADSK</th>\n      <th>AEP</th>\n      <th>ALGN</th>\n      <th>AMAT</th>\n      <th>AMD</th>\n      <th>AMGN</th>\n      <th>...</th>\n      <th>SIRI</th>\n      <th>SNPS</th>\n      <th>TMUS</th>\n      <th>TSLA</th>\n      <th>TXN</th>\n      <th>VRSK</th>\n      <th>VRTX</th>\n      <th>WBA</th>\n      <th>WBD</th>\n      <th>XEL</th>\n    </tr>\n    <tr>\n      <th>Date</th>\n      <th></th>\n      <th></th>\n      <th></th>\n      <th></th>\n      <th></th>\n      <th></th>\n      <th></th>\n      <th></th>\n      <th></th>\n      <th></th>\n      <th></th>\n      <th></th>\n      <th></th>\n      <th></th>\n      <th></th>\n      <th></th>\n      <th></th>\n      <th></th>\n      <th></th>\n      <th></th>\n      <th></th>\n    </tr>\n  </thead>\n  <tbody>\n    <tr>\n      <th>2011-01-04 00:00:00+00:00</th>\n      <td>0.005219</td>\n      <td>0.007031</td>\n      <td>-0.011331</td>\n      <td>-0.003614</td>\n      <td>-0.018844</td>\n      <td>0.007173</td>\n      <td>-0.018621</td>\n      <td>-0.006401</td>\n      <td>0.035419</td>\n      <td>0.021602</td>\n      <td>...</td>\n      <td>-0.011834</td>\n      <td>-0.005558</td>\n      <td>0.065035</td>\n      <td>0.001878</td>\n      <td>-0.001833</td>\n      <td>-0.005802</td>\n      <td>-0.013893</td>\n      <td>0.008393</td>\n      <td>-0.013806</td>\n      <td>0.004244</td>\n    </tr>\n    <tr>\n      <th>2011-01-05 00:00:00+00:00</th>\n      <td>0.008180</td>\n      <td>0.022533</td>\n      <td>0.002133</td>\n      <td>0.015999</td>\n      <td>0.070335</td>\n      <td>-0.015065</td>\n      <td>0.016923</td>\n      <td>-0.015033</td>\n      <td>0.015963</td>\n      <td>-0.000353</td>\n      <td>...</td>\n      <td>-0.011976</td>\n      <td>-0.002235</td>\n      <td>0.024425</td>\n      <td>0.005999</td>\n      <td>0.003979</td>\n      <td>0.001459</td>\n      <td>0.038039</td>\n      <td>0.013871</td>\n      <td>-0.021241</td>\n      <td>-0.005917</td>\n    </tr>\n    <tr>\n      <th>2011-01-06 00:00:00+00:00</th>\n      <td>-0.000808</td>\n      <td>0.001552</td>\n      <td>0.005585</td>\n      <td>0.007768</td>\n      <td>0.000485</td>\n      <td>0.005006</td>\n      <td>-0.012103</td>\n      <td>0.009448</td>\n      <td>-0.024691</td>\n      <td>-0.003173</td>\n      <td>...</td>\n      <td>-0.006061</td>\n      <td>-0.003734</td>\n      <td>-0.067321</td>\n      <td>0.039135</td>\n      <td>0.013719</td>\n      <td>0.000583</td>\n      <td>-0.017372</td>\n      <td>0.002985</td>\n      <td>-0.005919</td>\n      <td>-0.000850</td>\n    </tr>\n    <tr>\n      <th>2011-01-07 00:00:00+00:00</th>\n      <td>0.007161</td>\n      <td>-0.007127</td>\n      <td>-0.005818</td>\n      <td>0.002292</td>\n      <td>-0.012118</td>\n      <td>-0.003874</td>\n      <td>0.020929</td>\n      <td>0.005040</td>\n      <td>0.016111</td>\n      <td>0.007603</td>\n      <td>...</td>\n      <td>-0.018293</td>\n      <td>0.002249</td>\n      <td>-0.026316</td>\n      <td>0.012912</td>\n      <td>-0.000902</td>\n      <td>-0.002912</td>\n      <td>-0.001105</td>\n      <td>-0.005952</td>\n      <td>0.000248</td>\n      <td>0.008936</td>\n    </tr>\n    <tr>\n      <th>2011-01-10 00:00:00+00:00</th>\n      <td>0.018833</td>\n      <td>0.028714</td>\n      <td>0.002926</td>\n      <td>0.000416</td>\n      <td>0.002699</td>\n      <td>-0.006667</td>\n      <td>0.010000</td>\n      <td>-0.013611</td>\n      <td>0.040770</td>\n      <td>-0.009477</td>\n      <td>...</td>\n      <td>-0.018633</td>\n      <td>0.001870</td>\n      <td>0.017761</td>\n      <td>0.007436</td>\n      <td>0.004816</td>\n      <td>0.001460</td>\n      <td>0.003595</td>\n      <td>0.021706</td>\n      <td>-0.012401</td>\n      <td>-0.006327</td>\n    </tr>\n  </tbody>\n</table>\n<p>5 rows × 78 columns</p>\n</div>"
     },
     "execution_count": 32,
     "metadata": {},
     "output_type": "execute_result"
    }
   ],
   "source": [
    "# todo monthly returns instead of daily?\n",
    "returns = prices.pct_change().dropna()\n",
    "returns.head()"
   ],
   "metadata": {
    "collapsed": false
   }
  },
  {
   "cell_type": "code",
   "execution_count": null,
   "outputs": [],
   "source": [],
   "metadata": {
    "collapsed": false
   }
  }
 ],
 "metadata": {
  "kernelspec": {
   "display_name": "Python 3",
   "language": "python",
   "name": "python3"
  },
  "language_info": {
   "codemirror_mode": {
    "name": "ipython",
    "version": 2
   },
   "file_extension": ".py",
   "mimetype": "text/x-python",
   "name": "python",
   "nbconvert_exporter": "python",
   "pygments_lexer": "ipython2",
   "version": "2.7.6"
  }
 },
 "nbformat": 4,
 "nbformat_minor": 0
}
